{
 "cells": [
  {
   "cell_type": "code",
   "execution_count": 110,
   "id": "213c5410",
   "metadata": {},
   "outputs": [],
   "source": [
    "import geemap, ee\n",
    "import geopandas as gpd\n",
    "try:\n",
    "        ee.Initialize()\n",
    "except Exception as e:\n",
    "        ee.Authenticate()\n",
    "        ee.Initialize()"
   ]
  },
  {
   "cell_type": "markdown",
   "id": "56fb554c",
   "metadata": {},
   "source": [
    "### Initialise area(s) of interest, and import shape file"
   ]
  },
  {
   "cell_type": "code",
   "execution_count": 159,
   "id": "bd8abc0a",
   "metadata": {},
   "outputs": [],
   "source": [
    "# # file for Pakistan (later, use vector file from shape file to be exact)\n",
    "pakistan = ee.Feature(ee.FeatureCollection(\"FAO/GAUL/2015/level0\").filter(ee.Filter.eq('ADM0_NAME', 'Pakistan')).first()).geometry()\n",
    "islamabad = ee.FeatureCollection(\"FAO/GAUL/2015/level1\").filter(ee.Filter.eq(\"NAME_1\", \"Islamabad\")).geometry()\n",
    "\n",
    "import json\n",
    "shp_path = \"files/pakistan_shapefile/shape/Pakistan_Districts.shp\"\n",
    "\n",
    "# read shapefile into a geopands data frame and make sure it's initiated in the EPSG 4326 CRS\n",
    "gdf = gpd.read_file(shp_path, crs='EPSG:4326')\n",
    "\n",
    "# helper function to put the geodataframe in the right format for constructing an ee object\n",
    "def shp_to_ee_fmt(geodf):\n",
    "    data = json.loads(geodf.to_json())\n",
    "    return data['features'][0]['geometry']['coordinates']\n",
    "\n",
    "aoi = ee.Geometry.MultiPolygon(shp_to_ee_fmt(gdf))\n"
   ]
  },
  {
   "cell_type": "markdown",
   "id": "f76f27e9",
   "metadata": {},
   "source": [
    "### Visualise area of interest"
   ]
  },
  {
   "cell_type": "code",
   "execution_count": 112,
   "id": "8e9ddf03",
   "metadata": {},
   "outputs": [
    {
     "data": {
      "application/vnd.jupyter.widget-view+json": {
       "model_id": "ca7cc238f3c34dcda980b93a9ef248ed",
       "version_major": 2,
       "version_minor": 0
      },
      "text/plain": [
       "Map(center=[33.6844, 73.0479], controls=(WidgetControl(options=['position', 'transparent_bg'], widget=HBox(chi…"
      ]
     },
     "metadata": {},
     "output_type": "display_data"
    },
    {
     "ename": "TraitError",
     "evalue": "The 'east' trait of a Map instance expected a float, not the NoneType None.",
     "output_type": "error",
     "traceback": [
      "\u001b[0;31m---------------------------------------------------------------------------\u001b[0m",
      "\u001b[0;31mTraitError\u001b[0m                                Traceback (most recent call last)",
      "File \u001b[0;32m/opt/anaconda3/envs/onl/lib/python3.9/site-packages/ipywidgets/widgets/widget.py:676\u001b[0m, in \u001b[0;36mWidget._handle_msg\u001b[0;34m(self, msg)\u001b[0m\n\u001b[1;32m    674\u001b[0m         \u001b[38;5;28;01mif\u001b[39;00m \u001b[38;5;124m'\u001b[39m\u001b[38;5;124mbuffer_paths\u001b[39m\u001b[38;5;124m'\u001b[39m \u001b[38;5;129;01min\u001b[39;00m data:\n\u001b[1;32m    675\u001b[0m             _put_buffers(state, data[\u001b[38;5;124m'\u001b[39m\u001b[38;5;124mbuffer_paths\u001b[39m\u001b[38;5;124m'\u001b[39m], msg[\u001b[38;5;124m'\u001b[39m\u001b[38;5;124mbuffers\u001b[39m\u001b[38;5;124m'\u001b[39m])\n\u001b[0;32m--> 676\u001b[0m         \u001b[38;5;28;43mself\u001b[39;49m\u001b[38;5;241;43m.\u001b[39;49m\u001b[43mset_state\u001b[49m\u001b[43m(\u001b[49m\u001b[43mstate\u001b[49m\u001b[43m)\u001b[49m\n\u001b[1;32m    678\u001b[0m \u001b[38;5;66;03m# Handle a state request.\u001b[39;00m\n\u001b[1;32m    679\u001b[0m \u001b[38;5;28;01melif\u001b[39;00m method \u001b[38;5;241m==\u001b[39m \u001b[38;5;124m'\u001b[39m\u001b[38;5;124mrequest_state\u001b[39m\u001b[38;5;124m'\u001b[39m:\n",
      "File \u001b[0;32m/opt/anaconda3/envs/onl/lib/python3.9/site-packages/ipywidgets/widgets/widget.py:545\u001b[0m, in \u001b[0;36mWidget.set_state\u001b[0;34m(self, sync_data)\u001b[0m\n\u001b[1;32m    542\u001b[0m \u001b[38;5;28;01mif\u001b[39;00m name \u001b[38;5;129;01min\u001b[39;00m \u001b[38;5;28mself\u001b[39m\u001b[38;5;241m.\u001b[39mkeys:\n\u001b[1;32m    543\u001b[0m     from_json \u001b[38;5;241m=\u001b[39m \u001b[38;5;28mself\u001b[39m\u001b[38;5;241m.\u001b[39mtrait_metadata(name, \u001b[38;5;124m'\u001b[39m\u001b[38;5;124mfrom_json\u001b[39m\u001b[38;5;124m'\u001b[39m,\n\u001b[1;32m    544\u001b[0m                                     \u001b[38;5;28mself\u001b[39m\u001b[38;5;241m.\u001b[39m_trait_from_json)\n\u001b[0;32m--> 545\u001b[0m     \u001b[38;5;28;43mself\u001b[39;49m\u001b[38;5;241;43m.\u001b[39;49m\u001b[43mset_trait\u001b[49m\u001b[43m(\u001b[49m\u001b[43mname\u001b[49m\u001b[43m,\u001b[49m\u001b[43m \u001b[49m\u001b[43mfrom_json\u001b[49m\u001b[43m(\u001b[49m\u001b[43msync_data\u001b[49m\u001b[43m[\u001b[49m\u001b[43mname\u001b[49m\u001b[43m]\u001b[49m\u001b[43m,\u001b[49m\u001b[43m \u001b[49m\u001b[38;5;28;43mself\u001b[39;49m\u001b[43m)\u001b[49m\u001b[43m)\u001b[49m\n",
      "File \u001b[0;32m/opt/anaconda3/envs/onl/lib/python3.9/site-packages/traitlets/traitlets.py:1738\u001b[0m, in \u001b[0;36mHasTraits.set_trait\u001b[0;34m(self, name, value)\u001b[0m\n\u001b[1;32m   1736\u001b[0m     \u001b[38;5;28;01mraise\u001b[39;00m TraitError(\u001b[38;5;124mf\u001b[39m\u001b[38;5;124m\"\u001b[39m\u001b[38;5;124mClass \u001b[39m\u001b[38;5;132;01m{\u001b[39;00m\u001b[38;5;28mcls\u001b[39m\u001b[38;5;241m.\u001b[39m\u001b[38;5;18m__name__\u001b[39m\u001b[38;5;132;01m}\u001b[39;00m\u001b[38;5;124m does not have a trait named \u001b[39m\u001b[38;5;132;01m{\u001b[39;00mname\u001b[38;5;132;01m}\u001b[39;00m\u001b[38;5;124m\"\u001b[39m)\n\u001b[1;32m   1737\u001b[0m \u001b[38;5;28;01melse\u001b[39;00m:\n\u001b[0;32m-> 1738\u001b[0m     \u001b[38;5;28;43mgetattr\u001b[39;49m\u001b[43m(\u001b[49m\u001b[38;5;28;43mcls\u001b[39;49m\u001b[43m,\u001b[49m\u001b[43m \u001b[49m\u001b[43mname\u001b[49m\u001b[43m)\u001b[49m\u001b[38;5;241;43m.\u001b[39;49m\u001b[43mset\u001b[49m\u001b[43m(\u001b[49m\u001b[38;5;28;43mself\u001b[39;49m\u001b[43m,\u001b[49m\u001b[43m \u001b[49m\u001b[43mvalue\u001b[49m\u001b[43m)\u001b[49m\n",
      "File \u001b[0;32m/opt/anaconda3/envs/onl/lib/python3.9/site-packages/traitlets/traitlets.py:703\u001b[0m, in \u001b[0;36mTraitType.set\u001b[0;34m(self, obj, value)\u001b[0m\n\u001b[1;32m    702\u001b[0m \u001b[38;5;28;01mdef\u001b[39;00m \u001b[38;5;21mset\u001b[39m(\u001b[38;5;28mself\u001b[39m, obj, value):\n\u001b[0;32m--> 703\u001b[0m     new_value \u001b[38;5;241m=\u001b[39m \u001b[38;5;28;43mself\u001b[39;49m\u001b[38;5;241;43m.\u001b[39;49m\u001b[43m_validate\u001b[49m\u001b[43m(\u001b[49m\u001b[43mobj\u001b[49m\u001b[43m,\u001b[49m\u001b[43m \u001b[49m\u001b[43mvalue\u001b[49m\u001b[43m)\u001b[49m\n\u001b[1;32m    704\u001b[0m     \u001b[38;5;28;01mtry\u001b[39;00m:\n\u001b[1;32m    705\u001b[0m         old_value \u001b[38;5;241m=\u001b[39m obj\u001b[38;5;241m.\u001b[39m_trait_values[\u001b[38;5;28mself\u001b[39m\u001b[38;5;241m.\u001b[39mname]\n",
      "File \u001b[0;32m/opt/anaconda3/envs/onl/lib/python3.9/site-packages/traitlets/traitlets.py:735\u001b[0m, in \u001b[0;36mTraitType._validate\u001b[0;34m(self, obj, value)\u001b[0m\n\u001b[1;32m    733\u001b[0m     \u001b[38;5;28;01mreturn\u001b[39;00m value\n\u001b[1;32m    734\u001b[0m \u001b[38;5;28;01mif\u001b[39;00m \u001b[38;5;28mhasattr\u001b[39m(\u001b[38;5;28mself\u001b[39m, \u001b[38;5;124m\"\u001b[39m\u001b[38;5;124mvalidate\u001b[39m\u001b[38;5;124m\"\u001b[39m):\n\u001b[0;32m--> 735\u001b[0m     value \u001b[38;5;241m=\u001b[39m \u001b[38;5;28;43mself\u001b[39;49m\u001b[38;5;241;43m.\u001b[39;49m\u001b[43mvalidate\u001b[49m\u001b[43m(\u001b[49m\u001b[43mobj\u001b[49m\u001b[43m,\u001b[49m\u001b[43m \u001b[49m\u001b[43mvalue\u001b[49m\u001b[43m)\u001b[49m\n\u001b[1;32m    736\u001b[0m \u001b[38;5;28;01mif\u001b[39;00m obj\u001b[38;5;241m.\u001b[39m_cross_validation_lock \u001b[38;5;129;01mis\u001b[39;00m \u001b[38;5;28;01mFalse\u001b[39;00m:\n\u001b[1;32m    737\u001b[0m     value \u001b[38;5;241m=\u001b[39m \u001b[38;5;28mself\u001b[39m\u001b[38;5;241m.\u001b[39m_cross_validate(obj, value)\n",
      "File \u001b[0;32m/opt/anaconda3/envs/onl/lib/python3.9/site-packages/traitlets/traitlets.py:2417\u001b[0m, in \u001b[0;36mFloat.validate\u001b[0;34m(self, obj, value)\u001b[0m\n\u001b[1;32m   2415\u001b[0m     value \u001b[38;5;241m=\u001b[39m \u001b[38;5;28mfloat\u001b[39m(value)\n\u001b[1;32m   2416\u001b[0m \u001b[38;5;28;01mif\u001b[39;00m \u001b[38;5;129;01mnot\u001b[39;00m \u001b[38;5;28misinstance\u001b[39m(value, \u001b[38;5;28mfloat\u001b[39m):\n\u001b[0;32m-> 2417\u001b[0m     \u001b[38;5;28;43mself\u001b[39;49m\u001b[38;5;241;43m.\u001b[39;49m\u001b[43merror\u001b[49m\u001b[43m(\u001b[49m\u001b[43mobj\u001b[49m\u001b[43m,\u001b[49m\u001b[43m \u001b[49m\u001b[43mvalue\u001b[49m\u001b[43m)\u001b[49m\n\u001b[1;32m   2418\u001b[0m \u001b[38;5;28;01mreturn\u001b[39;00m _validate_bounds(\u001b[38;5;28mself\u001b[39m, obj, value)\n",
      "File \u001b[0;32m/opt/anaconda3/envs/onl/lib/python3.9/site-packages/traitlets/traitlets.py:841\u001b[0m, in \u001b[0;36mTraitType.error\u001b[0;34m(self, obj, value, error, info)\u001b[0m\n\u001b[1;32m    835\u001b[0m \u001b[38;5;28;01melse\u001b[39;00m:\n\u001b[1;32m    836\u001b[0m     e \u001b[38;5;241m=\u001b[39m \u001b[38;5;124m\"\u001b[39m\u001b[38;5;124mThe \u001b[39m\u001b[38;5;124m'\u001b[39m\u001b[38;5;132;01m{}\u001b[39;00m\u001b[38;5;124m'\u001b[39m\u001b[38;5;124m trait expected \u001b[39m\u001b[38;5;132;01m{}\u001b[39;00m\u001b[38;5;124m, not \u001b[39m\u001b[38;5;132;01m{}\u001b[39;00m\u001b[38;5;124m.\u001b[39m\u001b[38;5;124m\"\u001b[39m\u001b[38;5;241m.\u001b[39mformat(\n\u001b[1;32m    837\u001b[0m         \u001b[38;5;28mself\u001b[39m\u001b[38;5;241m.\u001b[39mname,\n\u001b[1;32m    838\u001b[0m         \u001b[38;5;28mself\u001b[39m\u001b[38;5;241m.\u001b[39minfo(),\n\u001b[1;32m    839\u001b[0m         describe(\u001b[38;5;124m\"\u001b[39m\u001b[38;5;124mthe\u001b[39m\u001b[38;5;124m\"\u001b[39m, value),\n\u001b[1;32m    840\u001b[0m     )\n\u001b[0;32m--> 841\u001b[0m \u001b[38;5;28;01mraise\u001b[39;00m TraitError(e)\n",
      "\u001b[0;31mTraitError\u001b[0m: The 'east' trait of a Map instance expected a float, not the NoneType None."
     ]
    }
   ],
   "source": [
    "long = 73.0479 # islamabad\n",
    "lat = 33.6844\n",
    "zoom_level = 7\n",
    "# long = 65.167352 # Jhao?\n",
    "# lat = 26.371142\n",
    "\n",
    "map1 = geemap.Map(center=[lat,long], zoom=zoom_level)\n",
    "\n",
    "dmsp1996 = ee.Image(\"NOAA/DMSP-OLS/NIGHTTIME_LIGHTS/F121996\").select('stable_lights')\n",
    "map1.addLayer(dmsp1996.mask(dmsp1996), {}, \"DMSP-OLS 1996\", opacity=0.75)\n",
    "map1.addLayerControl()\n",
    "map1\n"
   ]
  },
  {
   "cell_type": "markdown",
   "id": "03583e37",
   "metadata": {},
   "source": [
    "#### Further inspection: Visualise DMSP dataset to see split view of differences between 1996 and 2010 around AOI"
   ]
  },
  {
   "cell_type": "code",
   "execution_count": 113,
   "id": "12f3b453",
   "metadata": {},
   "outputs": [
    {
     "data": {
      "application/vnd.jupyter.widget-view+json": {
       "model_id": "a82e98e88554480581a05a9274fb45ad",
       "version_major": 2,
       "version_minor": 0
      },
      "text/plain": [
       "Map(center=[33.6844, 73.0479], controls=(ZoomControl(options=['position', 'zoom_in_text', 'zoom_in_title', 'zo…"
      ]
     },
     "metadata": {},
     "output_type": "display_data"
    },
    {
     "ename": "TraitError",
     "evalue": "The 'east' trait of a Map instance expected a float, not the NoneType None.",
     "output_type": "error",
     "traceback": [
      "\u001b[0;31m---------------------------------------------------------------------------\u001b[0m",
      "\u001b[0;31mTraitError\u001b[0m                                Traceback (most recent call last)",
      "File \u001b[0;32m/opt/anaconda3/envs/onl/lib/python3.9/site-packages/ipywidgets/widgets/widget.py:676\u001b[0m, in \u001b[0;36mWidget._handle_msg\u001b[0;34m(self, msg)\u001b[0m\n\u001b[1;32m    674\u001b[0m         \u001b[38;5;28;01mif\u001b[39;00m \u001b[38;5;124m'\u001b[39m\u001b[38;5;124mbuffer_paths\u001b[39m\u001b[38;5;124m'\u001b[39m \u001b[38;5;129;01min\u001b[39;00m data:\n\u001b[1;32m    675\u001b[0m             _put_buffers(state, data[\u001b[38;5;124m'\u001b[39m\u001b[38;5;124mbuffer_paths\u001b[39m\u001b[38;5;124m'\u001b[39m], msg[\u001b[38;5;124m'\u001b[39m\u001b[38;5;124mbuffers\u001b[39m\u001b[38;5;124m'\u001b[39m])\n\u001b[0;32m--> 676\u001b[0m         \u001b[38;5;28;43mself\u001b[39;49m\u001b[38;5;241;43m.\u001b[39;49m\u001b[43mset_state\u001b[49m\u001b[43m(\u001b[49m\u001b[43mstate\u001b[49m\u001b[43m)\u001b[49m\n\u001b[1;32m    678\u001b[0m \u001b[38;5;66;03m# Handle a state request.\u001b[39;00m\n\u001b[1;32m    679\u001b[0m \u001b[38;5;28;01melif\u001b[39;00m method \u001b[38;5;241m==\u001b[39m \u001b[38;5;124m'\u001b[39m\u001b[38;5;124mrequest_state\u001b[39m\u001b[38;5;124m'\u001b[39m:\n",
      "File \u001b[0;32m/opt/anaconda3/envs/onl/lib/python3.9/site-packages/ipywidgets/widgets/widget.py:545\u001b[0m, in \u001b[0;36mWidget.set_state\u001b[0;34m(self, sync_data)\u001b[0m\n\u001b[1;32m    542\u001b[0m \u001b[38;5;28;01mif\u001b[39;00m name \u001b[38;5;129;01min\u001b[39;00m \u001b[38;5;28mself\u001b[39m\u001b[38;5;241m.\u001b[39mkeys:\n\u001b[1;32m    543\u001b[0m     from_json \u001b[38;5;241m=\u001b[39m \u001b[38;5;28mself\u001b[39m\u001b[38;5;241m.\u001b[39mtrait_metadata(name, \u001b[38;5;124m'\u001b[39m\u001b[38;5;124mfrom_json\u001b[39m\u001b[38;5;124m'\u001b[39m,\n\u001b[1;32m    544\u001b[0m                                     \u001b[38;5;28mself\u001b[39m\u001b[38;5;241m.\u001b[39m_trait_from_json)\n\u001b[0;32m--> 545\u001b[0m     \u001b[38;5;28;43mself\u001b[39;49m\u001b[38;5;241;43m.\u001b[39;49m\u001b[43mset_trait\u001b[49m\u001b[43m(\u001b[49m\u001b[43mname\u001b[49m\u001b[43m,\u001b[49m\u001b[43m \u001b[49m\u001b[43mfrom_json\u001b[49m\u001b[43m(\u001b[49m\u001b[43msync_data\u001b[49m\u001b[43m[\u001b[49m\u001b[43mname\u001b[49m\u001b[43m]\u001b[49m\u001b[43m,\u001b[49m\u001b[43m \u001b[49m\u001b[38;5;28;43mself\u001b[39;49m\u001b[43m)\u001b[49m\u001b[43m)\u001b[49m\n",
      "File \u001b[0;32m/opt/anaconda3/envs/onl/lib/python3.9/site-packages/traitlets/traitlets.py:1738\u001b[0m, in \u001b[0;36mHasTraits.set_trait\u001b[0;34m(self, name, value)\u001b[0m\n\u001b[1;32m   1736\u001b[0m     \u001b[38;5;28;01mraise\u001b[39;00m TraitError(\u001b[38;5;124mf\u001b[39m\u001b[38;5;124m\"\u001b[39m\u001b[38;5;124mClass \u001b[39m\u001b[38;5;132;01m{\u001b[39;00m\u001b[38;5;28mcls\u001b[39m\u001b[38;5;241m.\u001b[39m\u001b[38;5;18m__name__\u001b[39m\u001b[38;5;132;01m}\u001b[39;00m\u001b[38;5;124m does not have a trait named \u001b[39m\u001b[38;5;132;01m{\u001b[39;00mname\u001b[38;5;132;01m}\u001b[39;00m\u001b[38;5;124m\"\u001b[39m)\n\u001b[1;32m   1737\u001b[0m \u001b[38;5;28;01melse\u001b[39;00m:\n\u001b[0;32m-> 1738\u001b[0m     \u001b[38;5;28;43mgetattr\u001b[39;49m\u001b[43m(\u001b[49m\u001b[38;5;28;43mcls\u001b[39;49m\u001b[43m,\u001b[49m\u001b[43m \u001b[49m\u001b[43mname\u001b[49m\u001b[43m)\u001b[49m\u001b[38;5;241;43m.\u001b[39;49m\u001b[43mset\u001b[49m\u001b[43m(\u001b[49m\u001b[38;5;28;43mself\u001b[39;49m\u001b[43m,\u001b[49m\u001b[43m \u001b[49m\u001b[43mvalue\u001b[49m\u001b[43m)\u001b[49m\n",
      "File \u001b[0;32m/opt/anaconda3/envs/onl/lib/python3.9/site-packages/traitlets/traitlets.py:703\u001b[0m, in \u001b[0;36mTraitType.set\u001b[0;34m(self, obj, value)\u001b[0m\n\u001b[1;32m    702\u001b[0m \u001b[38;5;28;01mdef\u001b[39;00m \u001b[38;5;21mset\u001b[39m(\u001b[38;5;28mself\u001b[39m, obj, value):\n\u001b[0;32m--> 703\u001b[0m     new_value \u001b[38;5;241m=\u001b[39m \u001b[38;5;28;43mself\u001b[39;49m\u001b[38;5;241;43m.\u001b[39;49m\u001b[43m_validate\u001b[49m\u001b[43m(\u001b[49m\u001b[43mobj\u001b[49m\u001b[43m,\u001b[49m\u001b[43m \u001b[49m\u001b[43mvalue\u001b[49m\u001b[43m)\u001b[49m\n\u001b[1;32m    704\u001b[0m     \u001b[38;5;28;01mtry\u001b[39;00m:\n\u001b[1;32m    705\u001b[0m         old_value \u001b[38;5;241m=\u001b[39m obj\u001b[38;5;241m.\u001b[39m_trait_values[\u001b[38;5;28mself\u001b[39m\u001b[38;5;241m.\u001b[39mname]\n",
      "File \u001b[0;32m/opt/anaconda3/envs/onl/lib/python3.9/site-packages/traitlets/traitlets.py:735\u001b[0m, in \u001b[0;36mTraitType._validate\u001b[0;34m(self, obj, value)\u001b[0m\n\u001b[1;32m    733\u001b[0m     \u001b[38;5;28;01mreturn\u001b[39;00m value\n\u001b[1;32m    734\u001b[0m \u001b[38;5;28;01mif\u001b[39;00m \u001b[38;5;28mhasattr\u001b[39m(\u001b[38;5;28mself\u001b[39m, \u001b[38;5;124m\"\u001b[39m\u001b[38;5;124mvalidate\u001b[39m\u001b[38;5;124m\"\u001b[39m):\n\u001b[0;32m--> 735\u001b[0m     value \u001b[38;5;241m=\u001b[39m \u001b[38;5;28;43mself\u001b[39;49m\u001b[38;5;241;43m.\u001b[39;49m\u001b[43mvalidate\u001b[49m\u001b[43m(\u001b[49m\u001b[43mobj\u001b[49m\u001b[43m,\u001b[49m\u001b[43m \u001b[49m\u001b[43mvalue\u001b[49m\u001b[43m)\u001b[49m\n\u001b[1;32m    736\u001b[0m \u001b[38;5;28;01mif\u001b[39;00m obj\u001b[38;5;241m.\u001b[39m_cross_validation_lock \u001b[38;5;129;01mis\u001b[39;00m \u001b[38;5;28;01mFalse\u001b[39;00m:\n\u001b[1;32m    737\u001b[0m     value \u001b[38;5;241m=\u001b[39m \u001b[38;5;28mself\u001b[39m\u001b[38;5;241m.\u001b[39m_cross_validate(obj, value)\n",
      "File \u001b[0;32m/opt/anaconda3/envs/onl/lib/python3.9/site-packages/traitlets/traitlets.py:2417\u001b[0m, in \u001b[0;36mFloat.validate\u001b[0;34m(self, obj, value)\u001b[0m\n\u001b[1;32m   2415\u001b[0m     value \u001b[38;5;241m=\u001b[39m \u001b[38;5;28mfloat\u001b[39m(value)\n\u001b[1;32m   2416\u001b[0m \u001b[38;5;28;01mif\u001b[39;00m \u001b[38;5;129;01mnot\u001b[39;00m \u001b[38;5;28misinstance\u001b[39m(value, \u001b[38;5;28mfloat\u001b[39m):\n\u001b[0;32m-> 2417\u001b[0m     \u001b[38;5;28;43mself\u001b[39;49m\u001b[38;5;241;43m.\u001b[39;49m\u001b[43merror\u001b[49m\u001b[43m(\u001b[49m\u001b[43mobj\u001b[49m\u001b[43m,\u001b[49m\u001b[43m \u001b[49m\u001b[43mvalue\u001b[49m\u001b[43m)\u001b[49m\n\u001b[1;32m   2418\u001b[0m \u001b[38;5;28;01mreturn\u001b[39;00m _validate_bounds(\u001b[38;5;28mself\u001b[39m, obj, value)\n",
      "File \u001b[0;32m/opt/anaconda3/envs/onl/lib/python3.9/site-packages/traitlets/traitlets.py:841\u001b[0m, in \u001b[0;36mTraitType.error\u001b[0;34m(self, obj, value, error, info)\u001b[0m\n\u001b[1;32m    835\u001b[0m \u001b[38;5;28;01melse\u001b[39;00m:\n\u001b[1;32m    836\u001b[0m     e \u001b[38;5;241m=\u001b[39m \u001b[38;5;124m\"\u001b[39m\u001b[38;5;124mThe \u001b[39m\u001b[38;5;124m'\u001b[39m\u001b[38;5;132;01m{}\u001b[39;00m\u001b[38;5;124m'\u001b[39m\u001b[38;5;124m trait expected \u001b[39m\u001b[38;5;132;01m{}\u001b[39;00m\u001b[38;5;124m, not \u001b[39m\u001b[38;5;132;01m{}\u001b[39;00m\u001b[38;5;124m.\u001b[39m\u001b[38;5;124m\"\u001b[39m\u001b[38;5;241m.\u001b[39mformat(\n\u001b[1;32m    837\u001b[0m         \u001b[38;5;28mself\u001b[39m\u001b[38;5;241m.\u001b[39mname,\n\u001b[1;32m    838\u001b[0m         \u001b[38;5;28mself\u001b[39m\u001b[38;5;241m.\u001b[39minfo(),\n\u001b[1;32m    839\u001b[0m         describe(\u001b[38;5;124m\"\u001b[39m\u001b[38;5;124mthe\u001b[39m\u001b[38;5;124m\"\u001b[39m, value),\n\u001b[1;32m    840\u001b[0m     )\n\u001b[0;32m--> 841\u001b[0m \u001b[38;5;28;01mraise\u001b[39;00m TraitError(e)\n",
      "\u001b[0;31mTraitError\u001b[0m: The 'east' trait of a Map instance expected a float, not the NoneType None."
     ]
    }
   ],
   "source": [
    "dmsp1996 = ee.Image(\"NOAA/DMSP-OLS/NIGHTTIME_LIGHTS/F101992\")\n",
    "dmsp2010 = ee.Image(\"NOAA/DMSP-OLS/NIGHTTIME_LIGHTS/F182010\")\n",
    "\n",
    "split_map = geemap.Map(center=[lat,long], zoom=zoom_level)\n",
    "\n",
    "# generate tile layers\n",
    "dmsp1996_tile = geemap.ee_tile_layer(dmsp1996.mask(dmsp1996), {}, 'DMSP-OLS 1996', opacity=0.75)\n",
    "dmsp2010_tile = geemap.ee_tile_layer(dmsp2010.mask(dmsp2010), {}, 'DMSP-OLS 2010', opacity=0.75)\n",
    "\n",
    "# create split map\n",
    "split_map.split_map(left_layer=dmsp1996_tile, right_layer=dmsp2010_tile)\n",
    "split_map"
   ]
  },
  {
   "cell_type": "markdown",
   "id": "c2d3e89c",
   "metadata": {},
   "source": [
    "### Load DMSP data for statistical analysis"
   ]
  },
  {
   "cell_type": "code",
   "execution_count": 114,
   "id": "801d22b4",
   "metadata": {},
   "outputs": [
    {
     "name": "stdout",
     "output_type": "stream",
     "text": [
      "There are 35 images in this collection.\n",
      "Date range: ('1992-01-01 00:00:00', '2013-01-01 00:00:00')\n"
     ]
    }
   ],
   "source": [
    "import pandas as pd\n",
    "\n",
    "# 1992-2013\n",
    "dmsp = ee.ImageCollection(\"NOAA/DMSP-OLS/NIGHTTIME_LIGHTS\")\n",
    "\n",
    "# basic inspection\n",
    "# ref: https://worldbank.github.io/OpenNightLights/tutorials/mod3_1_DMSP-OLS_annual_composites.html\n",
    "print(f\"There are {dmsp.size().getInfo()} images in this collection.\")\n",
    "\n",
    "imgrange = dmsp.reduceColumns(ee.Reducer.minMax(), [\"system:time_start\"])\n",
    "start = ee.Date(imgrange.get('min')).getInfo()['value']\n",
    "end = ee.Date(imgrange.get('max')).getInfo()['value']\n",
    "from datetime import datetime\n",
    "start = datetime.utcfromtimestamp(start/1000).strftime('%Y-%m-%d %H:%M:%S')\n",
    "end = datetime.utcfromtimestamp(end/1000).strftime('%Y-%m-%d %H:%M:%S')\n",
    "print(f\"Date range: {start, end}\")"
   ]
  },
  {
   "cell_type": "code",
   "execution_count": 115,
   "id": "bdb5ee0e",
   "metadata": {},
   "outputs": [],
   "source": [
    "# view all properties in a given image (adding year to properties printed out)\n",
    "# print(dmsp.limit(1))"
   ]
  },
  {
   "cell_type": "markdown",
   "id": "673137f7",
   "metadata": {},
   "source": [
    "#### Inspect data to determine whether to use mean or median when reducing"
   ]
  },
  {
   "cell_type": "code",
   "execution_count": 160,
   "id": "8f36047f",
   "metadata": {},
   "outputs": [
    {
     "data": {
      "image/png": "[encoded data removed]",
      "text/plain": [
       "<Figure size 640x480 with 1 Axes>"
      ]
     },
     "metadata": {},
     "output_type": "display_data"
    }
   ],
   "source": [
    "# using sample image from 2000\n",
    "image = dmsp.filterDate('2000-01-01', '2000-12-31').select('stable_lights').first()\n",
    "\n",
    "# Get the pixel values as a list\n",
    "pixel_values = image.reduceRegion(reducer=ee.Reducer.toList(), \n",
    "                                   geometry=aoi, \n",
    "                                   scale=100, \n",
    "                                   maxPixels=1e9).get('stable_lights').getInfo()\n",
    "\n",
    "plt.hist(pixel_values, bins=100, color='blue')\n",
    "plt.xlabel('Pixel value')\n",
    "plt.ylabel('Frequency')\n",
    "plt.title('Histogram of Pixel Values')\n",
    "plt.show()"
   ]
  },
  {
   "cell_type": "markdown",
   "id": "d562e705",
   "metadata": {},
   "source": [
    "#### notes:\n",
    "From the histogram plot, the data is grealty skewed. We would need to use the median when reducing by region."
   ]
  },
  {
   "cell_type": "markdown",
   "id": "ba685452",
   "metadata": {},
   "source": [
    "### Extract the mean radiance value for each month from the DMSP collection "
   ]
  },
  {
   "cell_type": "code",
   "execution_count": 161,
   "id": "ddd626d9",
   "metadata": {},
   "outputs": [
    {
     "name": "stdout",
     "output_type": "stream",
     "text": [
      "gettting data for 1996-01-01\n",
      "gettting data for 1997-01-01\n",
      "gettting data for 1998-01-01\n",
      "gettting data for 1999-01-01\n",
      "gettting data for 2000-01-01\n",
      "gettting data for 2001-01-01\n",
      "gettting data for 2002-01-01\n",
      "gettting data for 2003-01-01\n",
      "gettting data for 2004-01-01\n",
      "gettting data for 2005-01-01\n",
      "gettting data for 2006-01-01\n",
      "gettting data for 2007-01-01\n",
      "gettting data for 2008-01-01\n",
      "gettting data for 2009-01-01\n",
      "gettting data for 2010-01-01\n",
      "gettting data for 2011-01-01\n",
      "gettting data for 2012-01-01\n",
      "gettting data for 2013-01-01\n"
     ]
    }
   ],
   "source": [
    "# # Apply the calibration to the DMSP images for 2010 to 2016\n",
    "# calib_coeffs = ee.Image(\"files/Elvidge_DMSP_intercalib_coef.csv\")\n",
    "# dmsp = dmsp.map(lambda img: img.multiply(calib_coeffs).float())\n",
    "# dmsp = dmsp.filterDate(\"2010-01-01\", \"2016-12-31\")\n",
    "\n",
    "dmsp_dates = []\n",
    "dmsp_values = []\n",
    "       \n",
    "for year in range(1996, 2014):\n",
    "    year_start = str(year) + \"-01-01\"\n",
    "    year_end = str(year) + \"-12-31\"\n",
    "    print(f\"gettting data for {year_start}\")\n",
    "    image = dmsp.filterDate(year_start, year_end).select('stable_lights').first()\n",
    "    value = image.reduceRegion(reducer=ee.Reducer.median(),\n",
    "                                geometry=aoi,\n",
    "                                scale=100,\n",
    "                                maxPixels=1e9\n",
    "                              ).get('stable_lights').getInfo()\n",
    "    for month in range(1, 13):\n",
    "        dmsp_dates.append(str(year_start) + \"-\" + str(month).zfill(2) + \"-01\")\n",
    "        dmsp_values.append(value)"
   ]
  },
  {
   "cell_type": "markdown",
   "id": "1e997ace",
   "metadata": {},
   "source": [
    "#### create a df based on the above dmsp data for initial analysis"
   ]
  },
  {
   "cell_type": "code",
   "execution_count": 163,
   "id": "5de7f029",
   "metadata": {},
   "outputs": [
    {
     "data": {
      "text/html": [
       "<div>\n",
       "<style scoped>\n",
       "    .dataframe tbody tr th:only-of-type {\n",
       "        vertical-align: middle;\n",
       "    }\n",
       "\n",
       "    .dataframe tbody tr th {\n",
       "        vertical-align: top;\n",
       "    }\n",
       "\n",
       "    .dataframe thead th {\n",
       "        text-align: right;\n",
       "    }\n",
       "</style>\n",
       "<table border=\"1\" class=\"dataframe\">\n",
       "  <thead>\n",
       "    <tr style=\"text-align: right;\">\n",
       "      <th></th>\n",
       "      <th>values</th>\n",
       "    </tr>\n",
       "    <tr>\n",
       "      <th>dates</th>\n",
       "      <th></th>\n",
       "    </tr>\n",
       "  </thead>\n",
       "  <tbody>\n",
       "    <tr>\n",
       "      <th>1996-01-01 01:00:00-01:00</th>\n",
       "      <td>0</td>\n",
       "    </tr>\n",
       "    <tr>\n",
       "      <th>1996-01-01 02:00:00-01:00</th>\n",
       "      <td>0</td>\n",
       "    </tr>\n",
       "    <tr>\n",
       "      <th>1996-01-01 03:00:00-01:00</th>\n",
       "      <td>0</td>\n",
       "    </tr>\n",
       "    <tr>\n",
       "      <th>1996-01-01 04:00:00-01:00</th>\n",
       "      <td>0</td>\n",
       "    </tr>\n",
       "    <tr>\n",
       "      <th>1996-01-01 05:00:00-01:00</th>\n",
       "      <td>0</td>\n",
       "    </tr>\n",
       "    <tr>\n",
       "      <th>...</th>\n",
       "      <td>...</td>\n",
       "    </tr>\n",
       "    <tr>\n",
       "      <th>2013-01-01 08:00:00-01:00</th>\n",
       "      <td>0</td>\n",
       "    </tr>\n",
       "    <tr>\n",
       "      <th>2013-01-01 09:00:00-01:00</th>\n",
       "      <td>0</td>\n",
       "    </tr>\n",
       "    <tr>\n",
       "      <th>2013-01-01 10:00:00-01:00</th>\n",
       "      <td>0</td>\n",
       "    </tr>\n",
       "    <tr>\n",
       "      <th>2013-01-01 11:00:00-01:00</th>\n",
       "      <td>0</td>\n",
       "    </tr>\n",
       "    <tr>\n",
       "      <th>2013-01-01 12:00:00-01:00</th>\n",
       "      <td>0</td>\n",
       "    </tr>\n",
       "  </tbody>\n",
       "</table>\n",
       "<p>216 rows × 1 columns</p>\n",
       "</div>"
      ],
      "text/plain": [
       "                           values\n",
       "dates                            \n",
       "1996-01-01 01:00:00-01:00       0\n",
       "1996-01-01 02:00:00-01:00       0\n",
       "1996-01-01 03:00:00-01:00       0\n",
       "1996-01-01 04:00:00-01:00       0\n",
       "1996-01-01 05:00:00-01:00       0\n",
       "...                           ...\n",
       "2013-01-01 08:00:00-01:00       0\n",
       "2013-01-01 09:00:00-01:00       0\n",
       "2013-01-01 10:00:00-01:00       0\n",
       "2013-01-01 11:00:00-01:00       0\n",
       "2013-01-01 12:00:00-01:00       0\n",
       "\n",
       "[216 rows x 1 columns]"
      ]
     },
     "execution_count": 163,
     "metadata": {},
     "output_type": "execute_result"
    }
   ],
   "source": [
    "import pandas as pd\n",
    "\n",
    "dmsp_df = pd.DataFrame({\"dates\": dmsp_dates, \"values\": dmsp_values})\n",
    "dmsp_df[\"dates\"] = pd.to_datetime(dmsp_df[\"dates\"])\n",
    "dmsp_df.set_index(\"dates\", inplace=True)\n",
    "\n",
    "dmsp_df"
   ]
  },
  {
   "cell_type": "code",
   "execution_count": 164,
   "id": "534af101",
   "metadata": {},
   "outputs": [
    {
     "name": "stdout",
     "output_type": "stream",
     "text": [
      "Month with the highest value: 1\n",
      "General trends:\n",
      "       values\n",
      "dates        \n",
      "1         0.0\n",
      "Mean value: 0.0\n"
     ]
    }
   ],
   "source": [
    "# Find the month with the highest value\n",
    "max_value_month = dmsp_df[\"values\"].idxmax().month\n",
    "print(\"Month with the highest value:\", max_value_month)\n",
    "\n",
    "# Find general trends\n",
    "trend = dmsp_df.groupby(dmsp_df.index.month).mean()\n",
    "print(\"General trends:\")\n",
    "print(trend)\n",
    "\n",
    "# Find the mean value\n",
    "mean_value = dmsp_df[\"values\"].mean()\n",
    "print(\"Mean value:\", mean_value)"
   ]
  },
  {
   "cell_type": "markdown",
   "id": "dcf1c5ba",
   "metadata": {},
   "source": [
    "#### plot timeseries for DMSP over the years"
   ]
  },
  {
   "cell_type": "code",
   "execution_count": 165,
   "id": "576e6a5d",
   "metadata": {},
   "outputs": [
    {
     "data": {
      "image/png": "[encoded data removed]",
      "text/plain": [
       "<Figure size 640x480 with 1 Axes>"
      ]
     },
     "metadata": {},
     "output_type": "display_data"
    }
   ],
   "source": [
    "plt.plot(dmsp_df['values'])\n",
    "plt.xlabel('Date')\n",
    "plt.ylabel('Median Radiance')\n",
    "plt.title('Intensity (mean radiance) of Nighttime Lights from 1996 to 2014')\n",
    "plt.show()"
   ]
  },
  {
   "cell_type": "markdown",
   "id": "b29d5589",
   "metadata": {},
   "source": [
    "### Load VIIRS data and extract the mean radiance value for each month from the  collection "
   ]
  },
  {
   "cell_type": "code",
   "execution_count": 176,
   "id": "7e54de10",
   "metadata": {},
   "outputs": [
    {
     "name": "stdout",
     "output_type": "stream",
     "text": [
      "gettting data for 2018-01-01\n",
      "gettting data for 2018-02-01\n",
      "gettting data for 2018-03-01\n",
      "gettting data for 2018-04-01\n",
      "gettting data for 2018-05-01\n",
      "gettting data for 2018-06-01\n",
      "gettting data for 2018-07-01\n",
      "gettting data for 2018-08-01\n",
      "gettting data for 2018-09-01\n",
      "gettting data for 2018-10-01\n",
      "gettting data for 2018-11-01\n",
      "gettting data for 2018-12-01\n",
      "gettting data for 2019-01-01\n",
      "gettting data for 2019-02-01\n",
      "gettting data for 2019-03-01\n",
      "gettting data for 2019-04-01\n",
      "gettting data for 2019-05-01\n",
      "gettting data for 2019-06-01\n",
      "gettting data for 2019-07-01\n",
      "gettting data for 2019-08-01\n",
      "gettting data for 2019-09-01\n",
      "gettting data for 2019-10-01\n",
      "gettting data for 2019-11-01\n",
      "gettting data for 2019-12-01\n",
      "gettting data for 2020-01-01\n",
      "gettting data for 2020-02-01\n",
      "gettting data for 2020-03-01\n",
      "gettting data for 2020-04-01\n",
      "gettting data for 2020-05-01\n",
      "gettting data for 2020-06-01\n",
      "gettting data for 2020-07-01\n",
      "gettting data for 2020-08-01\n",
      "gettting data for 2020-09-01\n",
      "gettting data for 2020-10-01\n",
      "gettting data for 2020-11-01\n",
      "gettting data for 2020-12-01\n"
     ]
    }
   ],
   "source": [
    "viirs = ee.ImageCollection(\"NOAA/VIIRS/DNB/MONTHLY_V1/VCMSLCFG\")\n",
    "\n",
    "viirs_dates = []\n",
    "viirs_values = []\n",
    "\n",
    "for year in range(2018, 2021): # note: times out after 2016. 2016 data has an issue so it was skipped. but it should not have a big effect\n",
    "    for month in range(1, 13):\n",
    "        start_date = str(year) + \"-\" + str(month).zfill(2) + \"-01\"\n",
    "        print(f\"gettting data for {start_date}\")\n",
    "        if month == 12:\n",
    "            end_year = year + 1\n",
    "            end_month = 1\n",
    "        else:\n",
    "            end_year = year\n",
    "            end_month = month + 1\n",
    "        end_date = str(end_year) + \"-\" + str(end_month).zfill(2) + \"-01\"\n",
    "        image = viirs.filterDate(start_date, end_date).select('avg_rad').first()\n",
    "        value = image.reduceRegion(reducer=ee.Reducer.median(),\n",
    "                                     geometry=aoi,\n",
    "                                     scale=100,\n",
    "                                     maxPixels=1e9\n",
    "                                  ).get(\"avg_rad\").getInfo()\n",
    "        viirs_dates.append(start_date)\n",
    "        viirs_values.append(value)           \n"
   ]
  },
  {
   "cell_type": "markdown",
   "id": "4544cdc7",
   "metadata": {},
   "source": [
    "#### create a df based on the above viirs data for initial analysis"
   ]
  },
  {
   "cell_type": "code",
   "execution_count": 177,
   "id": "c68927e0",
   "metadata": {},
   "outputs": [
    {
     "data": {
      "text/html": [
       "<div>\n",
       "<style scoped>\n",
       "    .dataframe tbody tr th:only-of-type {\n",
       "        vertical-align: middle;\n",
       "    }\n",
       "\n",
       "    .dataframe tbody tr th {\n",
       "        vertical-align: top;\n",
       "    }\n",
       "\n",
       "    .dataframe thead th {\n",
       "        text-align: right;\n",
       "    }\n",
       "</style>\n",
       "<table border=\"1\" class=\"dataframe\">\n",
       "  <thead>\n",
       "    <tr style=\"text-align: right;\">\n",
       "      <th></th>\n",
       "      <th>values</th>\n",
       "    </tr>\n",
       "    <tr>\n",
       "      <th>dates</th>\n",
       "      <th></th>\n",
       "    </tr>\n",
       "  </thead>\n",
       "  <tbody>\n",
       "    <tr>\n",
       "      <th>2014-01-01</th>\n",
       "      <td>0.017579</td>\n",
       "    </tr>\n",
       "    <tr>\n",
       "      <th>2014-02-01</th>\n",
       "      <td>0.072298</td>\n",
       "    </tr>\n",
       "    <tr>\n",
       "      <th>2014-03-01</th>\n",
       "      <td>0.090814</td>\n",
       "    </tr>\n",
       "    <tr>\n",
       "      <th>2014-04-01</th>\n",
       "      <td>0.145503</td>\n",
       "    </tr>\n",
       "    <tr>\n",
       "      <th>2014-05-01</th>\n",
       "      <td>0.075196</td>\n",
       "    </tr>\n",
       "    <tr>\n",
       "      <th>...</th>\n",
       "      <td>...</td>\n",
       "    </tr>\n",
       "    <tr>\n",
       "      <th>2020-08-01</th>\n",
       "      <td>0.310000</td>\n",
       "    </tr>\n",
       "    <tr>\n",
       "      <th>2020-09-01</th>\n",
       "      <td>0.320000</td>\n",
       "    </tr>\n",
       "    <tr>\n",
       "      <th>2020-10-01</th>\n",
       "      <td>0.290000</td>\n",
       "    </tr>\n",
       "    <tr>\n",
       "      <th>2020-11-01</th>\n",
       "      <td>0.304806</td>\n",
       "    </tr>\n",
       "    <tr>\n",
       "      <th>2020-12-01</th>\n",
       "      <td>0.220000</td>\n",
       "    </tr>\n",
       "  </tbody>\n",
       "</table>\n",
       "<p>72 rows × 1 columns</p>\n",
       "</div>"
      ],
      "text/plain": [
       "              values\n",
       "dates               \n",
       "2014-01-01  0.017579\n",
       "2014-02-01  0.072298\n",
       "2014-03-01  0.090814\n",
       "2014-04-01  0.145503\n",
       "2014-05-01  0.075196\n",
       "...              ...\n",
       "2020-08-01  0.310000\n",
       "2020-09-01  0.320000\n",
       "2020-10-01  0.290000\n",
       "2020-11-01  0.304806\n",
       "2020-12-01  0.220000\n",
       "\n",
       "[72 rows x 1 columns]"
      ]
     },
     "execution_count": 177,
     "metadata": {},
     "output_type": "execute_result"
    }
   ],
   "source": [
    "import pandas as pd\n",
    "\n",
    "viirs_df = pd.DataFrame({\"dates\": viirs_dates, \"values\": viirs_values})\n",
    "viirs_df[\"dates\"] = pd.to_datetime(viirs_df[\"dates\"])\n",
    "viirs_df.set_index(\"dates\", inplace=True)\n",
    "\n",
    "viirs_df\n"
   ]
  },
  {
   "cell_type": "code",
   "execution_count": 178,
   "id": "cdee61ad",
   "metadata": {},
   "outputs": [
    {
     "name": "stdout",
     "output_type": "stream",
     "text": [
      "Month with the highest value: 10\n",
      "General trends:\n",
      "         values\n",
      "dates          \n",
      "1      0.066615\n",
      "2      0.175410\n",
      "3      0.202759\n",
      "4      0.266793\n",
      "5      0.212282\n",
      "6      0.177890\n",
      "7      0.208783\n",
      "8      0.206142\n",
      "9      0.247290\n",
      "10     0.230661\n",
      "11     0.155985\n",
      "12     0.107263\n",
      "Mean value: 0.18815604193831426\n"
     ]
    }
   ],
   "source": [
    "# Find the month with the highest value\n",
    "max_value_month = viirs_df[\"values\"].idxmax().month\n",
    "print(\"Month with the highest value:\", max_value_month)\n",
    "\n",
    "# Find general trends\n",
    "trend = viirs_df.groupby(viirs_df.index.month).mean()\n",
    "print(\"General trends:\")\n",
    "print(trend)\n",
    "\n",
    "# Find the mean value\n",
    "mean_value = viirs_df[\"values\"].mean()\n",
    "print(\"Mean value:\", mean_value)"
   ]
  },
  {
   "cell_type": "markdown",
   "id": "6a2b5f87",
   "metadata": {},
   "source": [
    "#### plot timeseries for VIIRS over the years"
   ]
  },
  {
   "cell_type": "code",
   "execution_count": 179,
   "id": "1bbae7e0",
   "metadata": {},
   "outputs": [
    {
     "data": {
      "image/png": "[encoded data removed]",
      "text/plain": [
       "<Figure size 640x480 with 1 Axes>"
      ]
     },
     "metadata": {},
     "output_type": "display_data"
    }
   ],
   "source": [
    "plt.plot(viirs_df['values'])\n",
    "plt.xlabel('Date')\n",
    "plt.ylabel('Mean Radiance')\n",
    "plt.title('Intensity (mean radiance) of Nighttime Lights from 2014 to 2021')\n",
    "plt.show()"
   ]
  },
  {
   "cell_type": "markdown",
   "id": "913085ed",
   "metadata": {},
   "source": [
    "### Create combined df with the extracted values from dmsp and viirs"
   ]
  },
  {
   "cell_type": "code",
   "execution_count": 184,
   "id": "94ed4018",
   "metadata": {},
   "outputs": [
    {
     "data": {
      "text/html": [
       "<div>\n",
       "<style scoped>\n",
       "    .dataframe tbody tr th:only-of-type {\n",
       "        vertical-align: middle;\n",
       "    }\n",
       "\n",
       "    .dataframe tbody tr th {\n",
       "        vertical-align: top;\n",
       "    }\n",
       "\n",
       "    .dataframe thead th {\n",
       "        text-align: right;\n",
       "    }\n",
       "</style>\n",
       "<table border=\"1\" class=\"dataframe\">\n",
       "  <thead>\n",
       "    <tr style=\"text-align: right;\">\n",
       "      <th></th>\n",
       "      <th>Date</th>\n",
       "      <th>Dataset</th>\n",
       "      <th>Median Radiance</th>\n",
       "    </tr>\n",
       "  </thead>\n",
       "  <tbody>\n",
       "    <tr>\n",
       "      <th>0</th>\n",
       "      <td>1996-01-01 01:00:00-01:00</td>\n",
       "      <td>DMSP</td>\n",
       "      <td>0.000000</td>\n",
       "    </tr>\n",
       "    <tr>\n",
       "      <th>1</th>\n",
       "      <td>1996-01-01 02:00:00-01:00</td>\n",
       "      <td>DMSP</td>\n",
       "      <td>0.000000</td>\n",
       "    </tr>\n",
       "    <tr>\n",
       "      <th>2</th>\n",
       "      <td>1996-01-01 03:00:00-01:00</td>\n",
       "      <td>DMSP</td>\n",
       "      <td>0.000000</td>\n",
       "    </tr>\n",
       "    <tr>\n",
       "      <th>3</th>\n",
       "      <td>1996-01-01 04:00:00-01:00</td>\n",
       "      <td>DMSP</td>\n",
       "      <td>0.000000</td>\n",
       "    </tr>\n",
       "    <tr>\n",
       "      <th>4</th>\n",
       "      <td>1996-01-01 05:00:00-01:00</td>\n",
       "      <td>DMSP</td>\n",
       "      <td>0.000000</td>\n",
       "    </tr>\n",
       "    <tr>\n",
       "      <th>...</th>\n",
       "      <td>...</td>\n",
       "      <td>...</td>\n",
       "      <td>...</td>\n",
       "    </tr>\n",
       "    <tr>\n",
       "      <th>283</th>\n",
       "      <td>2020-08-01 00:00:00</td>\n",
       "      <td>VIIRS</td>\n",
       "      <td>0.310000</td>\n",
       "    </tr>\n",
       "    <tr>\n",
       "      <th>284</th>\n",
       "      <td>2020-09-01 00:00:00</td>\n",
       "      <td>VIIRS</td>\n",
       "      <td>0.320000</td>\n",
       "    </tr>\n",
       "    <tr>\n",
       "      <th>285</th>\n",
       "      <td>2020-10-01 00:00:00</td>\n",
       "      <td>VIIRS</td>\n",
       "      <td>0.290000</td>\n",
       "    </tr>\n",
       "    <tr>\n",
       "      <th>286</th>\n",
       "      <td>2020-11-01 00:00:00</td>\n",
       "      <td>VIIRS</td>\n",
       "      <td>0.304806</td>\n",
       "    </tr>\n",
       "    <tr>\n",
       "      <th>287</th>\n",
       "      <td>2020-12-01 00:00:00</td>\n",
       "      <td>VIIRS</td>\n",
       "      <td>0.220000</td>\n",
       "    </tr>\n",
       "  </tbody>\n",
       "</table>\n",
       "<p>288 rows × 3 columns</p>\n",
       "</div>"
      ],
      "text/plain": [
       "                          Date Dataset  Median Radiance\n",
       "0    1996-01-01 01:00:00-01:00    DMSP         0.000000\n",
       "1    1996-01-01 02:00:00-01:00    DMSP         0.000000\n",
       "2    1996-01-01 03:00:00-01:00    DMSP         0.000000\n",
       "3    1996-01-01 04:00:00-01:00    DMSP         0.000000\n",
       "4    1996-01-01 05:00:00-01:00    DMSP         0.000000\n",
       "..                         ...     ...              ...\n",
       "283        2020-08-01 00:00:00   VIIRS         0.310000\n",
       "284        2020-09-01 00:00:00   VIIRS         0.320000\n",
       "285        2020-10-01 00:00:00   VIIRS         0.290000\n",
       "286        2020-11-01 00:00:00   VIIRS         0.304806\n",
       "287        2020-12-01 00:00:00   VIIRS         0.220000\n",
       "\n",
       "[288 rows x 3 columns]"
      ]
     },
     "execution_count": 184,
     "metadata": {},
     "output_type": "execute_result"
    }
   ],
   "source": [
    "# Create a pandas dataframe with the extracted values\n",
    "dates = dmsp_dates + viirs_dates\n",
    "datasets = [\"DMSP\"] * (18 * 12) + [\"VIIRS\"] * (6 * 12)\n",
    "values = dmsp_values + viirs_values\n",
    "data = {\"Date\": dates, \"Dataset\": datasets, \"Median Radiance\": values}\n",
    "combined_df = pd.DataFrame(data)\n",
    "combined_df[\"Date\"] = pd.to_datetime(combined_df[\"Date\"])\n",
    "combined_df"
   ]
  },
  {
   "cell_type": "markdown",
   "id": "f85046fe",
   "metadata": {},
   "source": [
    "### plot"
   ]
  },
  {
   "cell_type": "code",
   "execution_count": 186,
   "id": "a203aca8",
   "metadata": {},
   "outputs": [
    {
     "data": {
      "image/png": "[encoded data removed]",
      "text/plain": [
       "<Figure size 640x480 with 1 Axes>"
      ]
     },
     "metadata": {},
     "output_type": "display_data"
    }
   ],
   "source": [
    "# Plot the mean radiance values for the two datasets\n",
    "plt.plot(combined_df['Date'], combined_df['Median Radiance'])\n",
    "plt.xlabel('Date')\n",
    "plt.ylabel('Median Radiance')\n",
    "plt.title('Intensity of Nighttime Lights from 1992 to 2021')\n",
    "plt.show()\n"
   ]
  },
  {
   "cell_type": "code",
   "execution_count": null,
   "id": "d4518bfc",
   "metadata": {},
   "outputs": [],
   "source": []
  }
 ],
 "metadata": {
  "kernelspec": {
   "display_name": "Python 3 (ipykernel)",
   "language": "python",
   "name": "python3"
  },
  "language_info": {
   "codemirror_mode": {
    "name": "ipython",
    "version": 3
   },
   "file_extension": ".py",
   "mimetype": "text/x-python",
   "name": "python",
   "nbconvert_exporter": "python",
   "pygments_lexer": "ipython3",
   "version": "3.9.15"
  }
 },
 "nbformat": 4,
 "nbformat_minor": 5
}
